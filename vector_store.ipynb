{
 "cells": [
  {
   "cell_type": "code",
   "execution_count": 4,
   "metadata": {},
   "outputs": [],
   "source": [
    "from langchain_cohere import CohereEmbeddings\n",
    "from langchain_community.vectorstores import FAISS\n",
    "import base_utilites as bu\n",
    "import ast\n",
    "import json"
   ]
  },
  {
   "cell_type": "code",
   "execution_count": 9,
   "metadata": {},
   "outputs": [],
   "source": [
    "embeddings = CohereEmbeddings(cohere_api_key = 'FELFXgLGfcqsy4eh4Q75dXNT7VyIQjKZmhkiIug3')"
   ]
  },
  {
   "cell_type": "code",
   "execution_count": 3,
   "metadata": {},
   "outputs": [],
   "source": [
    "chunks = open('f_t.txt').read()\n",
    "\n",
    "chunks = [\n",
    "    chunks[index : index + 1024]\n",
    "    for index \n",
    "    in range(0 , len(chunks) , 1024)\n",
    "]\n"
   ]
  },
  {
   "cell_type": "code",
   "execution_count": 6,
   "metadata": {},
   "outputs": [],
   "source": [
    "vectorstore = FAISS.from_texts(chunks , embedding = embeddings)\n",
    "vectorstore.save_local('full_text_vector_store')"
   ]
  },
  {
   "cell_type": "code",
   "execution_count": 7,
   "metadata": {},
   "outputs": [],
   "source": [
    "chunks = open('full_text.txt').read().split('\\n')"
   ]
  },
  {
   "cell_type": "code",
   "execution_count": 8,
   "metadata": {},
   "outputs": [],
   "source": [
    "vectorstore = FAISS.from_texts(chunks , embedding = embeddings)\n",
    "vectorstore.save_local('processed_text_vector_store')"
   ]
  },
  {
   "cell_type": "code",
   "execution_count": 5,
   "metadata": {},
   "outputs": [],
   "source": [
    "with open(bu.format_path(\n",
    "    '''\n",
    "    Assets/\n",
    "        JSONs/\n",
    "            data.json\n",
    "    '''\n",
    ")) as fil : data = json.load(fil)\n",
    "data = ast.literal_eval(data)\n",
    "\n",
    "prompt = open(bu.format_path(\n",
    "    '''\n",
    "    Assets/\n",
    "        Prompts/\n",
    "            Context.txt\n",
    "    '''\n",
    ")).read()\n",
    "\n",
    "docs = [\n",
    "    prompt.format(key , data[key])\n",
    "    for key \n",
    "    in data.keys()\n",
    "]\n"
   ]
  },
  {
   "cell_type": "code",
   "execution_count": 10,
   "metadata": {},
   "outputs": [],
   "source": [
    "vectorstore = FAISS.from_texts(docs , embedding = embeddings)\n",
    "vectorstore.save_local('heading_content_vector_store')"
   ]
  },
  {
   "cell_type": "code",
   "execution_count": null,
   "metadata": {},
   "outputs": [],
   "source": []
  }
 ],
 "metadata": {
  "kernelspec": {
   "display_name": "Python 3",
   "language": "python",
   "name": "python3"
  },
  "language_info": {
   "codemirror_mode": {
    "name": "ipython",
    "version": 3
   },
   "file_extension": ".py",
   "mimetype": "text/x-python",
   "name": "python",
   "nbconvert_exporter": "python",
   "pygments_lexer": "ipython3",
   "version": "3.10.13"
  }
 },
 "nbformat": 4,
 "nbformat_minor": 2
}
