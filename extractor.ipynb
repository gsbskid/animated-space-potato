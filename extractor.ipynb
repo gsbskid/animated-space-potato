{
 "cells": [
  {
   "cell_type": "code",
   "execution_count": 6,
   "metadata": {},
   "outputs": [],
   "source": [
    "from tqdm.notebook import tqdm\n",
    "from unstructured.partition.image import partition_image\n",
    "import os \n",
    "\n",
    "import fitz \n",
    "import json\n",
    "\n",
    "import PyPDF2"
   ]
  },
  {
   "cell_type": "code",
   "execution_count": 2,
   "metadata": {},
   "outputs": [],
   "source": [
    "pdfs = os.listdir('PDFs')\n",
    "pdfs = [\n",
    "    f'PDFs/{pdf}'\n",
    "    for pdf \n",
    "    in pdfs\n",
    "]"
   ]
  },
  {
   "cell_type": "code",
   "execution_count": 4,
   "metadata": {},
   "outputs": [],
   "source": [
    "full_text = ''"
   ]
  },
  {
   "cell_type": "code",
   "execution_count": null,
   "metadata": {},
   "outputs": [],
   "source": [
    "for pdf in tqdm(pdfs , total = len(pdfs)) : \n",
    "\n",
    "    pdf = f'PDFs/{pdf}'\n",
    "\n",
    "    images = os.listdir(pdf)\n",
    "    \n",
    "    for image in tqdm(images , total = len(images)) : \n",
    "\n",
    "        image_path = f'{pdf}/{image}'\n",
    "\n",
    "        elements = partition_image(image_path)\n",
    "\n",
    "        for ele in elements : \n",
    "\n",
    "            full_text += ele.text + '\\n'\n"
   ]
  },
  {
   "cell_type": "code",
   "execution_count": null,
   "metadata": {},
   "outputs": [],
   "source": [
    "def extract_headings_and_contents(\n",
    "    pdf_paths , red_color = 14176347) :\n",
    "    '''\n",
    "    Function to extract headings and contents from a PDF\n",
    "\n",
    "    Args :\n",
    "        1) pdf_paths : list : list of paths to PDFs\n",
    "        2) red_color : int : red color to extract headings\n",
    "\n",
    "    Returns :\n",
    "        1) dict : headings and contents\n",
    "    '''\n",
    "\n",
    "    headings_contents = {}\n",
    "    current_heading = None\n",
    "    current_content = ''\n",
    "\n",
    "    # Loop through the PDFs\n",
    "\n",
    "    for path in pdf_paths : \n",
    "\n",
    "        # Open the PDF\n",
    "\n",
    "        doc = fitz.open(path)\n",
    "\n",
    "        for page in doc : \n",
    "\n",
    "            # Get the blocks\n",
    "\n",
    "            blocks = page.get_text('dict')['blocks']\n",
    "\n",
    "            for block in blocks :\n",
    "\n",
    "                # Get the lines\n",
    "\n",
    "                try :  \n",
    "\n",
    "                    for line in block['lines'] : \n",
    "\n",
    "                        # Get the spans\n",
    "\n",
    "                        try :\n",
    "\n",
    "                            for span in line['spans'] : \n",
    "\n",
    "                                # Extract the text\n",
    "\n",
    "                                try : \n",
    "\n",
    "                                    # Extract the color, text and size\n",
    "\n",
    "                                    color = span['color']\n",
    "                                    text = span['text']\n",
    "                                    size = span['flags']\n",
    "\n",
    "                                    # Check if the color is red or the size is bold, if so, then it is a heading\n",
    "\n",
    "                                    if color == red_color or size & 1 << 5 : \n",
    "\n",
    "                                        # If there is a current heading, then add the content to the dictionary\n",
    "\n",
    "                                        if current_heading : \n",
    "\n",
    "                                            # Add the content to the dictionary\n",
    "\n",
    "                                            if current_heading in headings_contents : headings_contents[current_heading] += current_content.strip() + '\\n' \n",
    "                                            else : headings_contents[current_heading] = current_content.strip()\n",
    "\n",
    "                                        # Update the current heading and content\n",
    "\n",
    "                                        current_heading = text\n",
    "                                        current_content = ''\n",
    "\n",
    "                                    else : current_content += text + ''\n",
    "\n",
    "                                except : pass\n",
    "                        except : pass\n",
    "                except : pass\n",
    "\n",
    "        # Add the last content to the dictionary\n",
    "\n",
    "        if current_heading : \n",
    "\n",
    "            if current_heading in headings_contents : headings_contents[current_heading] += current_content.strip() \n",
    "            else : headings_contents[current_heading] = current_content.strip()\n",
    "\n",
    "    return headings_contents"
   ]
  },
  {
   "cell_type": "code",
   "execution_count": null,
   "metadata": {},
   "outputs": [],
   "source": [
    "sections = extract_headings_and_contents([\n",
    "    'Assets/PDFs/input_pdf_20.pdf' , \n",
    "    'Assets/PDFs/pzuw- 1 column.pdf' , \n",
    "    'Assets/PDFs/SWU_WDCiR_2014_02 - 1 column.pdf'\n",
    "])\n"
   ]
  },
  {
   "cell_type": "code",
   "execution_count": null,
   "metadata": {},
   "outputs": [],
   "source": [
    "json_data = json.dumps(sections)"
   ]
  },
  {
   "cell_type": "code",
   "execution_count": null,
   "metadata": {},
   "outputs": [],
   "source": [
    "with open('Assets/JSONs/data.json' , 'w') as fil : json.dump(json_data, fil)"
   ]
  },
  {
   "cell_type": "code",
   "execution_count": null,
   "metadata": {},
   "outputs": [],
   "source": [
    "def pdf_to_text(path) : \n",
    "\n",
    "    pdf_reader = PyPDF2.PdfReader(path)\n",
    "    num_pages = len(pdf_reader.pages)\n",
    "\n",
    "    text = ''\n",
    "\n",
    "    for i in range(num_pages):\n",
    "        page_object = pdf_reader.pages[i]\n",
    "        text += page_object.extract_text()\n",
    "\n",
    "    return text "
   ]
  },
  {
   "cell_type": "code",
   "execution_count": null,
   "metadata": {},
   "outputs": [],
   "source": [
    "pdfs = os.listdir('Assets/PDFs')\n",
    "full_text = ''\n",
    "\n",
    "pdfs = [\n",
    "    f'Assets/PDFs/{pdf}'\n",
    "    for pdf \n",
    "    in pdfs\n",
    "]"
   ]
  },
  {
   "cell_type": "code",
   "execution_count": null,
   "metadata": {},
   "outputs": [],
   "source": [
    "for pdf in tqdm(pdfs , total = len(pdfs)) : full_text += pdf_to_text(pdf)"
   ]
  },
  {
   "cell_type": "code",
   "execution_count": null,
   "metadata": {},
   "outputs": [],
   "source": [
    "with open('f_t.txt' , 'w') as fil : fil.write(full_text)"
   ]
  }
 ],
 "metadata": {
  "kernelspec": {
   "display_name": "Python 3",
   "language": "python",
   "name": "python3"
  },
  "language_info": {
   "codemirror_mode": {
    "name": "ipython",
    "version": 3
   },
   "file_extension": ".py",
   "mimetype": "text/x-python",
   "name": "python",
   "nbconvert_exporter": "python",
   "pygments_lexer": "ipython3",
   "version": "3.10.13"
  }
 },
 "nbformat": 4,
 "nbformat_minor": 2
}
